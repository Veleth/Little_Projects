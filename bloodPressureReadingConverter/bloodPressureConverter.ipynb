{
 "cells": [
  {
   "cell_type": "code",
   "execution_count": 64,
   "metadata": {},
   "outputs": [],
   "source": [
    "import csv\n",
    "from datetime import datetime\n",
    "from collections import defaultdict\n",
    "inFile = \"export.csv\"\n",
    "outFile = \"bloodPressure.csv\"\n",
    "eveningBoundary = 15 # Exclusive, ie. <= eveningBoundary is morning\n",
    "csvDelim = \",\"\n",
    "arraySeparator = \"; \"\n",
    "translations = {\n",
    "    'date': 'Data',\n",
    "    'morning': 'Rano',\n",
    "    'evening': 'Wieczór'\n",
    "}\n",
    "emptyValueStr = \"\""
   ]
  },
  {
   "cell_type": "code",
   "execution_count": 65,
   "metadata": {},
   "outputs": [],
   "source": [
    "data = []\n",
    "with open(inFile, newline='') as csvfile:\n",
    "    reader = csv.reader(csvfile, delimiter=',')\n",
    "    for row in reader:\n",
    "        data.append(row)"
   ]
  },
  {
   "cell_type": "code",
   "execution_count": 66,
   "metadata": {},
   "outputs": [],
   "source": [
    "def formatNumber(num):\n",
    "    # in my case, the blood pressure in the CSV was denoted like 120.000 for 120mmHg pressure, so I needed to cut 4 chars\n",
    "    return num[:-4]"
   ]
  },
  {
   "cell_type": "code",
   "execution_count": 67,
   "metadata": {},
   "outputs": [],
   "source": [
    "newData = defaultdict(dict)\n",
    "for item in data[1:]:\n",
    "    date = item[0]\n",
    "    dt = datetime.strptime(date, '%Y-%m-%d %H:%M:%S')\n",
    "    dateStr= dt.strftime(\"%Y-%m-%d\")\n",
    "    key = \"morning\" if dt.hour <= 15 else \"evening\"\n",
    "    value = f\"{formatNumber(item[2])}/{formatNumber(item[1])}\"\n",
    "    if key not in newData[dateStr].keys():\n",
    "        newData[dateStr][key] = [value]\n",
    "    else: \n",
    "        newData[dateStr][key].append(value)\n",
    "    "
   ]
  },
  {
   "cell_type": "code",
   "execution_count": 68,
   "metadata": {},
   "outputs": [],
   "source": [
    "with open(outFile, 'w') as f:\n",
    "    header = csvDelim.join(translations.values())\n",
    "    f.write(f'{header}\\n')\n",
    "    for key in newData.keys():\n",
    "        entry = newData[key]\n",
    "        morning = arraySeparator.join(newData[key][\"morning\"]) if \"morning\" in newData[key] else emptyValueStr\n",
    "        evening = arraySeparator.join(newData[key][\"evening\"]) if \"evening\" in newData[key] else emptyValueStr\n",
    "        row = csvDelim.join([key, morning, evening])\n",
    "        f.write(f'{row}\\n')"
   ]
  }
 ],
 "metadata": {
  "kernelspec": {
   "display_name": "Python 3",
   "language": "python",
   "name": "python3"
  },
  "language_info": {
   "codemirror_mode": {
    "name": "ipython",
    "version": 3
   },
   "file_extension": ".py",
   "mimetype": "text/x-python",
   "name": "python",
   "nbconvert_exporter": "python",
   "pygments_lexer": "ipython3",
   "version": "3.8.6"
  }
 },
 "nbformat": 4,
 "nbformat_minor": 4
}
